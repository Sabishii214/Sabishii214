{
  "nbformat": 4,
  "nbformat_minor": 0,
  "metadata": {
    "colab": {
      "provenance": [],
      "authorship_tag": "ABX9TyMBBLMhY2RvwAXEVn/FEaGR",
      "include_colab_link": true
    },
    "kernelspec": {
      "name": "python3",
      "display_name": "Python 3"
    },
    "language_info": {
      "name": "python"
    }
  },
  "cells": [
    {
      "cell_type": "markdown",
      "metadata": {
        "id": "view-in-github",
        "colab_type": "text"
      },
      "source": [
        "<a href=\"https://colab.research.google.com/github/Sabishii214/Sabishii214/blob/main/Deepfake_Detection.ipynb\" target=\"_parent\"><img src=\"https://colab.research.google.com/assets/colab-badge.svg\" alt=\"Open In Colab\"/></a>"
      ]
    },
    {
      "cell_type": "code",
      "execution_count": 6,
      "metadata": {
        "id": "FVhI8n-TK-oR"
      },
      "outputs": [],
      "source": [
        "import numpy as np\n",
        "import matplotlib.pyplot as plt\n",
        "import cv2\n",
        "import pandas as pd\n",
        "import glob2\n",
        "import os, fnmatch\n",
        "from pathlib import Path\n",
        "# import mtcnn\n",
        "from mtcnn.mtcnn import MTCNN"
      ]
    },
    {
      "cell_type": "code",
      "metadata": {
        "colab": {
          "base_uri": "https://localhost:8080/"
        },
        "id": "bbacce01",
        "outputId": "b0541c1b-866d-42c9-9a34-066e64a80fa4"
      },
      "source": [
        "!pip install mtcnn"
      ],
      "execution_count": 5,
      "outputs": [
        {
          "output_type": "stream",
          "name": "stdout",
          "text": [
            "Collecting mtcnn\n",
            "  Downloading mtcnn-1.0.0-py3-none-any.whl.metadata (5.8 kB)\n",
            "Requirement already satisfied: joblib>=1.4.2 in /usr/local/lib/python3.12/dist-packages (from mtcnn) (1.5.2)\n",
            "Collecting lz4>=4.3.3 (from mtcnn)\n",
            "  Downloading lz4-4.4.4-cp312-cp312-manylinux_2_17_x86_64.manylinux2014_x86_64.whl.metadata (3.8 kB)\n",
            "Downloading mtcnn-1.0.0-py3-none-any.whl (1.9 MB)\n",
            "\u001b[2K   \u001b[90m━━━━━━━━━━━━━━━━━━━━━━━━━━━━━━━━━━━━━━━━\u001b[0m \u001b[32m1.9/1.9 MB\u001b[0m \u001b[31m16.4 MB/s\u001b[0m eta \u001b[36m0:00:00\u001b[0m\n",
            "\u001b[?25hDownloading lz4-4.4.4-cp312-cp312-manylinux_2_17_x86_64.manylinux2014_x86_64.whl (1.3 MB)\n",
            "\u001b[2K   \u001b[90m━━━━━━━━━━━━━━━━━━━━━━━━━━━━━━━━━━━━━━━━\u001b[0m \u001b[32m1.3/1.3 MB\u001b[0m \u001b[31m50.9 MB/s\u001b[0m eta \u001b[36m0:00:00\u001b[0m\n",
            "\u001b[?25hInstalling collected packages: lz4, mtcnn\n",
            "Successfully installed lz4-4.4.4 mtcnn-1.0.0\n"
          ]
        }
      ]
    },
    {
      "cell_type": "code",
      "source": [
        "def extract_multiple_videos(intput_filenames, image_path_infile):\n",
        "    \"\"\"Extract video files into sequence of images.\"\"\"\n",
        "    i = 1  # Counter of first video\n",
        "    # Iterate file names:\n",
        "    cap = cv2.VideoCapture('your_video_file_path.avi' or intput_filenames)\n",
        "    if (cap.isOpened()== False):\n",
        "        print(\"Error opening file\")\n",
        "    # Keep iterating break\n",
        "    while True:\n",
        "        ret, frame = cap.read()  # Read frame from first video\n",
        "\n",
        "        if ret:\n",
        "            cv2.imwrite(os.path.join(image_path_infile , str(i) + '.jpg'), frame)  # Write frame to JPEG file (1.jpg, 2.jpg, ...)\n",
        "# you can uncomment this line if you want to view them.\n",
        "#           cv2.imshow('frame', frame)  # Display frame for testing\n",
        "            i += 1 # Advance file counter\n",
        "        else:\n",
        "            # Break the interal loop when res status is False.\n",
        "            break\n",
        "    cv2.waitKey(50) #Wait 50msec\n",
        "    cap.release()"
      ],
      "metadata": {
        "id": "HBjBon2xLIgT"
      },
      "execution_count": 11,
      "outputs": []
    },
    {
      "cell_type": "code",
      "source": [
        "extract_multiple_videos(fake_video_name, fake_image_path_for_frame)\n",
        "extract_multiple_videos(real_video_name, real_image_path_for_frame)"
      ],
      "metadata": {
        "colab": {
          "base_uri": "https://localhost:8080/",
          "height": 159
        },
        "id": "zVkwba8sLg89",
        "outputId": "d598db9d-3de7-4ede-9e67-cf378283e52d"
      },
      "execution_count": 12,
      "outputs": [
        {
          "output_type": "error",
          "ename": "NameError",
          "evalue": "name 'fake_video_name' is not defined",
          "traceback": [
            "\u001b[0;31m---------------------------------------------------------------------------\u001b[0m",
            "\u001b[0;31mNameError\u001b[0m                                 Traceback (most recent call last)",
            "\u001b[0;32m/tmp/ipython-input-2044546379.py\u001b[0m in \u001b[0;36m<cell line: 0>\u001b[0;34m()\u001b[0m\n\u001b[0;32m----> 1\u001b[0;31m \u001b[0mextract_multiple_videos\u001b[0m\u001b[0;34m(\u001b[0m\u001b[0mfake_video_name\u001b[0m\u001b[0;34m,\u001b[0m \u001b[0mfake_image_path_for_frame\u001b[0m\u001b[0;34m)\u001b[0m\u001b[0;34m\u001b[0m\u001b[0;34m\u001b[0m\u001b[0m\n\u001b[0m\u001b[1;32m      2\u001b[0m \u001b[0mextract_multiple_videos\u001b[0m\u001b[0;34m(\u001b[0m\u001b[0mreal_video_name\u001b[0m\u001b[0;34m,\u001b[0m \u001b[0mreal_image_path_for_frame\u001b[0m\u001b[0;34m)\u001b[0m\u001b[0;34m\u001b[0m\u001b[0;34m\u001b[0m\u001b[0m\n",
            "\u001b[0;31mNameError\u001b[0m: name 'fake_video_name' is not defined"
          ]
        }
      ]
    },
    {
      "cell_type": "code",
      "source": [
        "from skimage import measure\n",
        "def mse(imageA, imageB):\n",
        "    # the 'Mean Squared Error' between the two images is the\n",
        "    # sum of the squared difference between the two images;\n",
        "    # NOTE: the two images must have the same dimension\n",
        "    err = np.sum((imageA.astype(\"float\") - imageB.astype(\"float\")) ** 2)\n",
        "    err /= float(imageA.shape[0] * imageA.shape[1])\n",
        "# return the MSE, the lower the error, the more \"similar\"\n",
        "    # the two images are\n",
        "    return err\n",
        "def compare_images(imageA, imageB, title):\n",
        "    # compute the mean squared error and structural similarity\n",
        "    # index for the images\n",
        "    m = mse(imageA, imageB)\n",
        "    s = measure.compare_ssim(imageA, imageB)\n",
        "    # setup the figure\n",
        "    fig = plt.figure(title)\n",
        "    plt.suptitle(\"MSE: %.2f, SSIM: %.2f\" % (m, s))\n",
        "    # show first image\n",
        "    ax = fig.add_subplot(1, 2, 1)\n",
        "    plt.imshow(imageA, cmap = plt.cm.gray)\n",
        "    plt.axis(\"off\")\n",
        "    # show the second image\n",
        "    ax = fig.add_subplot(1, 2, 2)\n",
        "    plt.imshow(imageB, cmap = plt.cm.gray)\n",
        "    plt.axis(\"off\")\n",
        "    # show the images\n",
        "    plt.show()"
      ],
      "metadata": {
        "id": "D8ejW2_3Ll7A"
      },
      "execution_count": 14,
      "outputs": []
    }
  ]
}